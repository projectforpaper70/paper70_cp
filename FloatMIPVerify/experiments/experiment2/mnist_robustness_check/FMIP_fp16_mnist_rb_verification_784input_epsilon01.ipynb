{
 "cells": [
  {
   "cell_type": "code",
   "execution_count": null,
   "metadata": {},
   "outputs": [],
   "source": [
    "using PyCall\n",
    "sage_all = pyimport(\"sage.all\")"
   ]
  },
  {
   "cell_type": "code",
   "execution_count": null,
   "metadata": {},
   "outputs": [],
   "source": [
    "using PyCall\n",
    "sage_all = pyimport(\"sage.all\")"
   ]
  },
  {
   "cell_type": "code",
   "execution_count": null,
   "metadata": {},
   "outputs": [],
   "source": [
    "using Random\n",
    "using IntervalArithmetic\n",
    "using Gurobi\n",
    "using JuMP\n",
    "using MIPVerify\n",
    "using MIPVerify:relu\n",
    "using MIPVerify:NNetFormat,evaluate_network,evaluate_network_withoutNorm,evaluate_network_multiple,info\n",
    "using MIPVerify:prep_data_file,get_matrix_params\n",
    "using MIPVerify:JuMPLinearType\n",
    "using MAT\n",
    "using Images\n",
    "using Printf"
   ]
  },
  {
   "cell_type": "code",
   "execution_count": null,
   "metadata": {},
   "outputs": [],
   "source": [
    "struct VerifyInfo\n",
    "    index::Int\n",
    "    time::Float64\n",
    "    adv_found::Bool\n",
    "    adv_not_found::Bool\n",
    "    verified::Bool\n",
    "    verified_res::Int\n",
    "end"
   ]
  },
  {
   "cell_type": "code",
   "execution_count": null,
   "metadata": {},
   "outputs": [],
   "source": [
    "#Fmipverify 在784维度找反例"
   ]
  },
  {
   "cell_type": "code",
   "execution_count": null,
   "metadata": {},
   "outputs": [],
   "source": [
    "#adv_found:表示发现反例，true表示真反例，false 表示假反例\n",
    "#adv_not_found:true表示求解器无法验证，说明是没有找到反例，是鲁棒的。false说明求解器可以给出解\n",
    "#verified：true表示得到了验证,false表示没有被验证\n",
    "#verified_res:1表示鲁棒，-1表示不鲁棒,0表示未知\n",
    "function robust_verify_mnist784()\n",
    "    misclassified = 0\n",
    "    result = VerifyInfo[]\n",
    "    round_error_class=Int[]\n",
    "    mnist = MIPVerify.read_datasets(\"MNIST\")\n",
    "    nn784 = MIPVerify.get_example_network_params(\"F16MNIST24\")\n",
    "    for index in 1:5513\n",
    "        total_time = 0\n",
    "        try\n",
    "            total_time = @elapsed begin\n",
    "            ##参数读取部分代码\n",
    "                sample_image = MIPVerify.get_image(mnist.test.images, index)\n",
    "                sample_label = MIPVerify.get_label(mnist.test.labels, index)\n",
    "                predicted_output = Float16.(sample_image) |> nn784\n",
    "                predicted_output_index = argmax(predicted_output)\n",
    "                if predicted_output_index != sample_label + 1\n",
    "                    #println(\"Sample $index misclassified.\")\n",
    "                    misclassified = misclassified+1\n",
    "                    continue\n",
    "                end\n",
    "                #println(\"the label : $sample_label ----》predicted as $predicted_output_index\")\n",
    "                @assert (predicted_output_index - 1) == sample_label\n",
    "\n",
    "                flat_layer = Flatten(4)\n",
    "                flat_img = flat_layer(sample_image)\n",
    "                input_size = 784\n",
    "                @assert(\n",
    "                    length(flat_img) == input_size, \n",
    "                    \"the length of flat img: $(length(flat_img)) is not equal to the input size: $input_size\"\n",
    "                )\n",
    "\n",
    "                ##约束求解部分\n",
    "                sgSolver = sage_all.MixedIntegerLinearProgram(solver=\"gurobi\")\n",
    "                # 再创建gurobi部分的优化问题\n",
    "                model = Model(Gurobi.Optimizer)\n",
    "                #model = Model(Gurobi.Optimizer, OutputFlag=0)\n",
    "                set_optimizer_attribute(model, \"OutputFlag\", 0)\n",
    "                nn_itv = MIPVerify.get_example_network_params_withSageSolver(\"F16MNIST24itv\",sgSolver)\n",
    "                d1 =MIPVerify.set_robustradius_checkrobust_withsage(\n",
    "                    sgSolver,\n",
    "                    model,\n",
    "                    nn_itv,\n",
    "                    flat_img,\n",
    "                    MIPVerify.LInfNormBoundedPerturbationFamily(0.15),\n",
    "                    0.1\n",
    "                )\n",
    "\n",
    "                ##读取MILP编码bound值\n",
    "                #output for jump\n",
    "                output_jump = d1[:Output]\n",
    "                output_var = sgSolver.new_variable()\n",
    "                output_itv = d1[:Output_itv]\n",
    "\n",
    "                for i in 1:size(d1[:Output_itv],1)\n",
    "                    sgSolver.add_constraint(output_var[i] <= output_itv[i].var_up)\n",
    "                    sgSolver.add_constraint(output_var[i] >= output_itv[i].var_lo)\n",
    "                end\n",
    "\n",
    "                ##设置输出约束\n",
    "                label_index = [1,2,3,4,5,6,7,8,9,10]    \n",
    "                target_index = [i for i in label_index if i!=predicted_output_index]\n",
    "\n",
    "                output_var_list = [output_var[i] for i in 1:10]\n",
    "                @assert(\n",
    "                all(item != predicted_output_index for item in target_index), \n",
    "                \"the length of flat img: $(target_index) should not equal to the : $(predicted_output_index)\"\n",
    "                )\n",
    "\n",
    "                MIPVerify.set_max_indexes_withsage(sgSolver, output_jump , output_var_list, target_index,margin=floatmin(Float64))\n",
    "\n",
    "                @elapsed sgSolver.solve()\n",
    "\n",
    "                solved_input = [convert(Float16,sgSolver.get_values(d1[:PerturbedInput_itv][i])) for i in 1:input_size]\n",
    "                perturbation_predicted_output = solved_input |> nn784\n",
    "                perturbation_predicted_index = argmax(perturbation_predicted_output)\n",
    "                #println(\"the label : $sample_label ----》perturted as $perturbation_predicted_index\")\n",
    "                if(perturbation_predicted_index==predicted_output_index)\n",
    "                    #发现虚假反例\n",
    "                    false_adv_res=VerifyInfo(index,total_time,false,false,false,0)\n",
    "                    push!(result,false_adv_res)\n",
    "                else\n",
    "                    #发现真实反例\n",
    "                    true_adv_res=VerifyInfo(index,total_time,true,false,true,-1)\n",
    "                    push!(result,true_adv_res)\n",
    "                end\n",
    "            end  \n",
    "\n",
    "        catch e\n",
    "            #println(\"处理样本 $index 时出错: $e\")\n",
    "            verified_robust = VerifyInfo(index,total_time,false,true,true,1)\n",
    "            push!(result,verified_robust)\n",
    "        end\n",
    "    end\n",
    "    run_statistics = Dict(\n",
    "        :result => result,\n",
    "        :misclassified => misclassified,\n",
    "        :round_error_class => round_error_class\n",
    "    )\n",
    "    return run_statistics\n",
    "end\n"
   ]
  },
  {
   "cell_type": "code",
   "execution_count": null,
   "metadata": {},
   "outputs": [],
   "source": [
    "return784 = robust_verify_mnist784()"
   ]
  },
  {
   "cell_type": "code",
   "execution_count": null,
   "metadata": {},
   "outputs": [],
   "source": [
    "# 创建一个空字典\n",
    "statistics_dict = Dict{String, Int}()\n",
    "statistics_dict[\"total_sample\"] = 5513-return784[:misclassified]\n",
    "\n",
    "# 统计 verified_t\n",
    "verified_t = count(x -> x.verified == true && x.verified_res == 1, res784)\n",
    "statistics_dict[\"verified_t\"] = verified_t\n",
    "\n",
    "statistics_dict[\"verified_unknow\"] = statistics_dict[\"total_sample\"] - statistics_dict[\"verified_t\"] \n",
    "# 打印字典\n",
    "println(statistics_dict)\n"
   ]
  }
 ],
 "metadata": {
  "kernelspec": {
   "display_name": "Julia 1.6.7",
   "language": "julia",
   "name": "julia-1.6"
  },
  "language_info": {
   "file_extension": ".jl",
   "mimetype": "application/julia",
   "name": "julia",
   "version": "1.6.7"
  },
  "orig_nbformat": 4,
  "vscode": {
   "interpreter": {
    "hash": "c1cce4e0f11b973b2725882c40af018efbbb1e25b2aa71df8e05af82bec76d98"
   }
  }
 },
 "nbformat": 4,
 "nbformat_minor": 2
}
