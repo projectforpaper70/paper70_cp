{
 "cells": [
  {
   "cell_type": "code",
   "execution_count": 1,
   "metadata": {},
   "outputs": [
    {
     "name": "stderr",
     "output_type": "stream",
     "text": [
      "\u001b[33m\u001b[1m┌ \u001b[22m\u001b[39m\u001b[33m\u001b[1mWarning: \u001b[22m\u001b[39mPackage MIPVerify does not have SetRounding in its dependencies:\n",
      "\u001b[33m\u001b[1m│ \u001b[22m\u001b[39m- If you have MIPVerify checked out for development and have\n",
      "\u001b[33m\u001b[1m│ \u001b[22m\u001b[39m  added SetRounding as a dependency but haven't updated your primary\n",
      "\u001b[33m\u001b[1m│ \u001b[22m\u001b[39m  environment's manifest file, try `Pkg.resolve()`.\n",
      "\u001b[33m\u001b[1m│ \u001b[22m\u001b[39m- Otherwise you may need to report an issue with MIPVerify\n",
      "\u001b[33m\u001b[1m└ \u001b[22m\u001b[39mLoading SetRounding into MIPVerify from project dependency, future warnings for MIPVerify are suppressed.\n"
     ]
    },
    {
     "data": {
      "text/plain": [
       "view_diff (generic function with 1 method)"
      ]
     },
     "metadata": {},
     "output_type": "display_data"
    }
   ],
   "source": [
    "using MIPVerify\n",
    "using Gurobi\n",
    "using JuMP\n",
    "using Images\n",
    "using Printf\n",
    "function print_summary(d::Dict)\n",
    "    # Helper function to print out output\n",
    "    obj_val = JuMP.objective_value(d[:Model])\n",
    "    solve_time = JuMP.solve_time(d[:Model])\n",
    "    println(\"Objective Value: $(obj_val), Solve Time: $(@sprintf(\"%.2f\", solve_time))\")\n",
    "end\n",
    "\n",
    "function view_diff(diff::Array{<:Real, 2})\n",
    "    n = 1001\n",
    "    colormap(\"RdBu\", n)[ceil.(Int, (diff .+ 1) ./ 2 .* n)]\n",
    "end"
   ]
  },
  {
   "cell_type": "code",
   "execution_count": 2,
   "metadata": {},
   "outputs": [],
   "source": [
    "struct VerifyInfo\n",
    "    index::Int\n",
    "    time::Float64\n",
    "    adv_found::Bool\n",
    "    adv_not_found::Bool\n",
    "    verified::Bool\n",
    "    verified_res::Int\n",
    "end"
   ]
  },
  {
   "cell_type": "code",
   "execution_count": 3,
   "metadata": {},
   "outputs": [],
   "source": [
    "##验证784输入维度网络的鲁棒性"
   ]
  },
  {
   "cell_type": "code",
   "execution_count": 4,
   "metadata": {},
   "outputs": [
    {
     "data": {
      "text/plain": [
       "robust_verify_mnist784 (generic function with 1 method)"
      ]
     },
     "metadata": {},
     "output_type": "display_data"
    }
   ],
   "source": [
    "function robust_verify_mnist784()\n",
    "    misclassified = 0\n",
    "    result = VerifyInfo[]\n",
    "    round_error_class=Int[]\n",
    "    mnist = MIPVerify.read_datasets(\"MNIST\")\n",
    "    nn784 = MIPVerify.get_example_network_params(\"F16MNIST24\")\n",
    "    for index in 1:5513\n",
    "        total_time = 0 \n",
    "        try\n",
    "            sample_image = Float16.(MIPVerify.get_image(mnist.test.images, index))\n",
    "            sample_label = MIPVerify.get_label(mnist.test.labels, index)\n",
    "            predicted_output = sample_image |> nn784\n",
    "            predicted_output_index = argmax(predicted_output)\n",
    "            if predicted_output_index != sample_label + 1\n",
    "                #println(\"Sample $index misclassified.\")\n",
    "                misclassified = misclassified+1\n",
    "                continue\n",
    "            end\n",
    "            label_index = [1,2,3,4,5,6,7,8,9,10]    \n",
    "            target_index = [i for i in label_index if i!=predicted_output_index]\n",
    "            @assert (predicted_output_index - 1) == sample_label\n",
    "            total_time = @elapsed begin\n",
    "                d = MIPVerify.robustness_checking_verification(\n",
    "                    nn784, \n",
    "                    sample_image, \n",
    "                    target_index, \n",
    "                    Gurobi.Optimizer,\n",
    "                    #OutputFlag=0, #prevents any output from being printed out\n",
    "                    Dict(\"OutputFlag\" => 0),\n",
    "                    pp = MIPVerify.LInfNormBoundedPerturbationFamily(0.15),\n",
    "                    norm_order = Inf,\n",
    "                    tightening_algorithm = lp,\n",
    "                    radius=0.1\n",
    "                )\n",
    "            end\n",
    "                # solve_time = JuMP.solve_time(d[:Model])\n",
    "                perturbed_sample_image = Float16.(value.(d[:PerturbedInput]))\n",
    "                #return value.(d[:PerturbedInput])\n",
    "                perturbation_predicted_output = perturbed_sample_image |> nn784\n",
    "                perturbation_predicted_index = argmax(perturbation_predicted_output)\n",
    "\n",
    "            if(perturbation_predicted_index==predicted_output_index)\n",
    "                #发现虚假反例\n",
    "                false_adv_res=VerifyInfo(index,total_time,false,false,false,0)\n",
    "                push!(result,false_adv_res)\n",
    "            else\n",
    "                #发现真实反例\n",
    "                true_adv_res=VerifyInfo(index,total_time,true,false,true,-1)\n",
    "                push!(result,true_adv_res)\n",
    "            end\n",
    "\n",
    "\n",
    "            # if(perturbation_predicted_index==predicted_output_index)\n",
    "            #     push!(false_adv,index)\n",
    "            # end\n",
    "            #@assert(perturbation_predicted_index!=predicted_output_index)\n",
    "            #println(\"predicted index: $predicted_output_index --> perturbation_index: $perturbation_predicted_index\")\n",
    "        catch e\n",
    "            #println(\"处理样本 $index 时出错: $e\")\n",
    "            verified_robust = VerifyInfo(index,total_time,false,true,true,1)\n",
    "            push!(result,verified_robust)\n",
    "        end\n",
    "    end\n",
    "    run_statistics = Dict(\n",
    "        :result => result,\n",
    "        :misclassified => misclassified,\n",
    "        :round_error_class => round_error_class\n",
    "    )\n",
    "    return run_statistics\n",
    "end\n",
    " "
   ]
  },
  {
   "cell_type": "code",
   "execution_count": 5,
   "metadata": {},
   "outputs": [
    {
     "name": "stdout",
     "output_type": "stream",
     "text": [
      "dir is : datasets/mnist\n",
      "the absolute path is:/home/aritifact/aritifact_for_cp24/FloatMIPVerify/src/../deps/datasets/mnist/mnist_int_train.mat\n"
     ]
    }
   ],
   "source": [
    "return784=robust_verify_mnist784()"
   ]
  },
  {
   "cell_type": "code",
   "execution_count": null,
   "metadata": {},
   "outputs": [],
   "source": [
    "return784"
   ]
  },
  {
   "cell_type": "code",
   "execution_count": null,
   "metadata": {},
   "outputs": [],
   "source": [
    "#[-2.3713921253870267, -1.8027504956158829, 0.008307725670726167, 6.074830818742205, -1.771926698692518, 6.066299464639811, -2.608813652451541, -5.709864365783943, 1.8328790633071244, 4.367905664014999] "
   ]
  },
  {
   "cell_type": "code",
   "execution_count": null,
   "metadata": {},
   "outputs": [],
   "source": [
    "#[-2.376283302049711, -0.7972237904778922, 0.3492462573671511, 6.414893474253237, -1.3865857197924198, 3.466028314486234, -3.1521864095326944, -4.509593618019869, 2.2913703125388363, 3.614985111371099] "
   ]
  },
  {
   "cell_type": "code",
   "execution_count": null,
   "metadata": {},
   "outputs": [],
   "source": [
    "res784=return784[:result]\n",
    "# 创建一个空字典\n",
    "statistics_dict = Dict{String, Int}()\n",
    "\n",
    "# 统计 tp_adv\n",
    "tp_adv = count(x -> x.adv_found == true, res784)\n",
    "statistics_dict[\"tp_adv\"] = tp_adv\n",
    "\n",
    "# 统计 tf_adv\n",
    "tf_adv = count(x -> x.adv_found == false, res784)\n",
    "statistics_dict[\"tf_adv\"] = tf_adv\n",
    "\n",
    "# 统计 verified_t\n",
    "verified_t = count(x -> x.verified == true && x.verified_res == 1, res784)\n",
    "statistics_dict[\"verified_t\"] = verified_t\n",
    "\n",
    "# 统计 verified_f\n",
    "verified_f = count(x -> x.verified == true && x.verified_res == -1, res784)\n",
    "statistics_dict[\"verified_f\"] = verified_f\n",
    "\n",
    "verified_unknow = count(x -> x.verified == false && x.verified_res == 0, res784)\n",
    "statistics_dict[\"verified_unknow\"] = verified_unknow \n",
    "\n",
    "# 统计样本总数total\n",
    "statistics_dict[\"total_sample\"] = 5513-return784[:misclassified]\n",
    "\n",
    "# 打印字典\n",
    "println(statistics_dict)\n"
   ]
  },
  {
   "cell_type": "code",
   "execution_count": null,
   "metadata": {},
   "outputs": [],
   "source": [
    "##mipverify由于受到浮点舍入误差而\n",
    "wrong_verified_index_by_mipverify=[i.index for i in res784 if i.verified==false]"
   ]
  },
  {
   "cell_type": "code",
   "execution_count": null,
   "metadata": {},
   "outputs": [],
   "source": [
    "mnist = MIPVerify.read_datasets(\"MNIST\")\n",
    "colorview(Gray,MIPVerify.get_image(mnist.test.images, wrong_verified_index_by_mipverify[1])[1,:,:,1])"
   ]
  },
  {
   "cell_type": "code",
   "execution_count": null,
   "metadata": {},
   "outputs": [],
   "source": [
    "#image= Gray.(Float64.(MIPVerify.get_image(mnist.test.images, wrong_verified_index_by_mipverify[1])[1,:,:,1]))"
   ]
  },
  {
   "cell_type": "code",
   "execution_count": null,
   "metadata": {},
   "outputs": [],
   "source": [
    "#save(\"rounding_error_img_infloat16_index188.png\",image)"
   ]
  },
  {
   "cell_type": "code",
   "execution_count": null,
   "metadata": {},
   "outputs": [],
   "source": [
    "right_verified_index_by_mipverify=[i.index for i in res784 if i.verified==true && i.verified_res==1]"
   ]
  },
  {
   "cell_type": "code",
   "execution_count": null,
   "metadata": {},
   "outputs": [],
   "source": [
    "# Open the file in write mode\n",
    "open(\"MP_784_verified_t_epsilon0.1.txt\", \"w\") do file\n",
    "    # Write each index to the file, one per line\n",
    "    for index in right_verified_index_by_mipverify\n",
    "        write(file, \"$index\\n\")\n",
    "    end\n",
    "end\n"
   ]
  }
 ],
 "metadata": {
  "kernelspec": {
   "display_name": "Julia 1.6.7",
   "language": "julia",
   "name": "julia-1.6"
  },
  "language_info": {
   "file_extension": ".jl",
   "mimetype": "application/julia",
   "name": "julia",
   "version": "1.6.7"
  },
  "orig_nbformat": 4,
  "vscode": {
   "interpreter": {
    "hash": "c1cce4e0f11b973b2725882c40af018efbbb1e25b2aa71df8e05af82bec76d98"
   }
  }
 },
 "nbformat": 4,
 "nbformat_minor": 2
}
